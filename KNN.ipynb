{
  "nbformat": 4,
  "nbformat_minor": 0,
  "metadata": {
    "colab": {
      "provenance": [],
      "authorship_tag": "ABX9TyPJz2txWg+2StxnAizZVVDH",
      "include_colab_link": true
    },
    "kernelspec": {
      "name": "python3",
      "display_name": "Python 3"
    },
    "language_info": {
      "name": "python"
    }
  },
  "cells": [
    {
      "cell_type": "markdown",
      "metadata": {
        "id": "view-in-github",
        "colab_type": "text"
      },
      "source": [
        "<a href=\"https://colab.research.google.com/github/andryelarossignol/KNN/blob/main/KNN.ipynb\" target=\"_parent\"><img src=\"https://colab.research.google.com/assets/colab-badge.svg\" alt=\"Open In Colab\"/></a>"
      ]
    },
    {
      "cell_type": "code",
      "execution_count": 76,
      "metadata": {
        "id": "klykie2AaEzx"
      },
      "outputs": [],
      "source": [
        "#K-Nearest Neighbors(KNN)\n",
        "\n",
        "#works based on the similarity between the data\n",
        "#Data Storage: KNN stores all the training examples.\n",
        "#Distance Calculation: When a new data point needs to be classified, KNN calculates the distance between this point and all the data points in the training set.\n",
        "#Selection of Nearest Neighbors: It selects the ‘k’ nearest data points (neighbors).\n",
        "#Arucaccy= Number of correct predictions/Total number of predctions\n",
        "#Precision= true positives/ true positives+false positives\n",
        "#Recall=true positives/true positives/false negatives\n",
        "#F1=precision.recall/precision+recall\n",
        "#Classification: For classification, KNN assigns the most common class among the ‘k’ neighbors.For regression, it calculates the average of the values of the ‘k’ neighbors.\n",
        "#Vantagens: Simplicidade, fácil de entender e implementar.\n",
        "#Desvantagens: Pode ser computacionalmente caro para grandes conjuntos de dados, pois precisa calcular a distância para todos os pontos de dados.\n",
        "#Confusin matrix: Shows the count of true positives, false positives, true negatives, and false negatives\n"
      ]
    },
    {
      "cell_type": "code",
      "source": [
        "import numpy as np\n",
        "import pandas as pd\n",
        "from sklearn.datasets import load_iris\n",
        "from sklearn.model_selection import train_test_split\n",
        "from sklearn.neighbors import KNeighborsClassifier\n",
        "from sklearn.metrics import accuracy_score\n",
        "from sklearn.metrics import confusion_matrix, classification_report, precision_score, recall_score, f1_score\n",
        "import matplotlib.pyplot as plt\n",
        "import seaborn as sns\n",
        "from sklearn.model_selection import GridSearchCV\n",
        "\n",
        "# Load the Iris dataset\n",
        "iris = load_iris()\n",
        "X, y = iris.data, iris.target #X: Flower features (the four measurements). Y: Flower targets, i.e. the species to which each flower belongs.\n"
      ],
      "metadata": {
        "id": "K8mHQ1oMhrwk"
      },
      "execution_count": 81,
      "outputs": []
    },
    {
      "cell_type": "code",
      "source": [
        "# Split the dataset into 70% training and 30% testing\n",
        "X_train, X_test, y_train, y_test = train_test_split(X, y, test_size=0.3, random_state=42) #rando_state: ensures that the data split is the same on each code run.\n"
      ],
      "metadata": {
        "id": "uNfIzfw5jcdw"
      },
      "execution_count": 82,
      "outputs": []
    },
    {
      "cell_type": "code",
      "source": [
        "# Create the KNN classifier with k=3\n",
        "knn=KNeighborsClassifier()\n"
      ],
      "metadata": {
        "id": "tnDezJ9ekrp_"
      },
      "execution_count": 83,
      "outputs": []
    },
    {
      "cell_type": "code",
      "source": [
        "# Set parameters for a grid search\n",
        "# Finds the best value of k that maximizes the average accuracy during cross-validation\n",
        "param_grid= {'n_neighbors':np.arange(1, 31)}\n",
        "grid_search = GridSearchCV(knn, param_grid, cv=10)\n",
        "grid_search.fit(X_train,y_train)\n",
        "\n",
        "print(f\"The best k value: {grid_search.best_params_['n_neighbors']}\")\n",
        "print(f\"Best average of Araucaria: {grid_search.best_score_}\")\n"
      ],
      "metadata": {
        "colab": {
          "base_uri": "https://localhost:8080/"
        },
        "id": "1odBtCDqqvLu",
        "outputId": "3241404d-1fb1-4294-831b-486a08899052"
      },
      "execution_count": 84,
      "outputs": [
        {
          "output_type": "stream",
          "name": "stdout",
          "text": [
            "The best k value: 11\n",
            "Best average of Araucaria: 0.9627272727272727\n"
          ]
        }
      ]
    },
    {
      "cell_type": "code",
      "source": [
        "# Make predictions in the test suite\n",
        "y_pred = grid_search.predict(X_test)\n",
        "\n",
        "\n",
        "# Acuraccy, precision, recall, F1-score\n",
        "accuracy = accuracy_score(y_test, y_pred)\n",
        "precision = precision_score(y_test, y_pred, average='macro')\n",
        "recall= recall_score(y_test, y_pred, average='macro')\n",
        "f1= f1_score(y_test, y_pred, average='macro')\n",
        "\n",
        "\n",
        "print(f'Acuraccy:{accuracy}')\n",
        "print(f'Precision: {precision}')\n",
        "print(f'Recall: {recall}')\n",
        "print(f'F1-score: {f1}')\n",
        "\n",
        "print('Classification Report:')\n",
        "print(classification_report(y_test, y_pred))"
      ],
      "metadata": {
        "colab": {
          "base_uri": "https://localhost:8080/"
        },
        "id": "9SRbS6ltlz4U",
        "outputId": "7bd94e9b-bd0d-4579-e4f2-c7d5ddda4c34"
      },
      "execution_count": 85,
      "outputs": [
        {
          "output_type": "stream",
          "name": "stdout",
          "text": [
            "Acuraccy:1.0\n",
            "Precision: 1.0\n",
            "Recall: 1.0\n",
            "F1-score: 1.0\n",
            "Classification Report:\n",
            "              precision    recall  f1-score   support\n",
            "\n",
            "           0       1.00      1.00      1.00        19\n",
            "           1       1.00      1.00      1.00        13\n",
            "           2       1.00      1.00      1.00        13\n",
            "\n",
            "    accuracy                           1.00        45\n",
            "   macro avg       1.00      1.00      1.00        45\n",
            "weighted avg       1.00      1.00      1.00        45\n",
            "\n"
          ]
        }
      ]
    },
    {
      "cell_type": "code",
      "source": [
        "\n",
        "# Confusion matrix\n",
        "conf_matrix = confusion_matrix(y_test, y_pred)\n",
        "sns.heatmap(conf_matrix, annot=True, fmt='d', cmap='Blues')\n",
        "plt.xlabel('Predito')\n",
        "plt.ylabel('Verdadeiro')\n",
        "plt.title('Confusion matrix')\n",
        "plt.show()"
      ],
      "metadata": {
        "colab": {
          "base_uri": "https://localhost:8080/",
          "height": 472
        },
        "id": "gRlCExoS84Ly",
        "outputId": "aa41dc7c-bb3c-4a0d-d2e7-9df0d896b613"
      },
      "execution_count": 86,
      "outputs": [
        {
          "output_type": "display_data",
          "data": {
            "text/plain": [
              "<Figure size 640x480 with 2 Axes>"
            ],
            "image/png": "[encoded data removed]"
          },
          "metadata": {}
        }
      ]
    },
    {
      "cell_type": "code",
      "source": [
        "# Test k values from 1 to 10\n",
        "# Evaluates Arucacia using a single test set\n",
        "\n",
        "k_values = range(1, 101)\n",
        "accuracies = []\n",
        "\n",
        "for k in k_values:\n",
        "    knn = KNeighborsClassifier(n_neighbors=k)\n",
        "    knn.fit(X_train, y_train)\n",
        "    y_pred = knn.predict(X_test)\n",
        "    accuracies.append(accuracy_score(y_test, y_pred))\n",
        "\n",
        "\n",
        "for k, accuracy in zip(k_values, accuracies):\n",
        "    print(f'k={k}: Acuraccy={accuracy}')\n"
      ],
      "metadata": {
        "colab": {
          "base_uri": "https://localhost:8080/"
        },
        "id": "Z6kEk755pB44",
        "outputId": "53e5fe00-b18b-474d-e7de-4b2ac28f1796"
      },
      "execution_count": 75,
      "outputs": [
        {
          "output_type": "stream",
          "name": "stdout",
          "text": [
            "k=1: Acuraccy=1.0\n",
            "k=2: Acuraccy=1.0\n",
            "k=3: Acuraccy=1.0\n",
            "k=4: Acuraccy=1.0\n",
            "k=5: Acuraccy=1.0\n",
            "k=6: Acuraccy=1.0\n",
            "k=7: Acuraccy=1.0\n",
            "k=8: Acuraccy=1.0\n",
            "k=9: Acuraccy=1.0\n",
            "k=10: Acuraccy=1.0\n",
            "k=11: Acuraccy=1.0\n",
            "k=12: Acuraccy=1.0\n",
            "k=13: Acuraccy=1.0\n",
            "k=14: Acuraccy=1.0\n",
            "k=15: Acuraccy=1.0\n",
            "k=16: Acuraccy=1.0\n",
            "k=17: Acuraccy=1.0\n",
            "k=18: Acuraccy=1.0\n",
            "k=19: Acuraccy=1.0\n",
            "k=20: Acuraccy=1.0\n",
            "k=21: Acuraccy=1.0\n",
            "k=22: Acuraccy=1.0\n",
            "k=23: Acuraccy=1.0\n",
            "k=24: Acuraccy=1.0\n",
            "k=25: Acuraccy=1.0\n",
            "k=26: Acuraccy=1.0\n",
            "k=27: Acuraccy=1.0\n",
            "k=28: Acuraccy=1.0\n",
            "k=29: Acuraccy=1.0\n",
            "k=30: Acuraccy=1.0\n",
            "k=31: Acuraccy=1.0\n",
            "k=32: Acuraccy=1.0\n",
            "k=33: Acuraccy=0.9777777777777777\n",
            "k=34: Acuraccy=0.9777777777777777\n",
            "k=35: Acuraccy=0.9777777777777777\n",
            "k=36: Acuraccy=1.0\n",
            "k=37: Acuraccy=1.0\n",
            "k=38: Acuraccy=1.0\n",
            "k=39: Acuraccy=1.0\n",
            "k=40: Acuraccy=1.0\n",
            "k=41: Acuraccy=1.0\n",
            "k=42: Acuraccy=0.9777777777777777\n",
            "k=43: Acuraccy=0.9777777777777777\n",
            "k=44: Acuraccy=0.9777777777777777\n",
            "k=45: Acuraccy=0.9777777777777777\n",
            "k=46: Acuraccy=0.9777777777777777\n",
            "k=47: Acuraccy=0.9777777777777777\n",
            "k=48: Acuraccy=0.9555555555555556\n",
            "k=49: Acuraccy=0.9333333333333333\n",
            "k=50: Acuraccy=0.9555555555555556\n",
            "k=51: Acuraccy=0.9555555555555556\n",
            "k=52: Acuraccy=0.9555555555555556\n",
            "k=53: Acuraccy=0.9555555555555556\n",
            "k=54: Acuraccy=0.9333333333333333\n",
            "k=55: Acuraccy=0.8888888888888888\n",
            "k=56: Acuraccy=0.9111111111111111\n",
            "k=57: Acuraccy=0.9111111111111111\n",
            "k=58: Acuraccy=0.9333333333333333\n",
            "k=59: Acuraccy=0.9111111111111111\n",
            "k=60: Acuraccy=0.9555555555555556\n",
            "k=61: Acuraccy=0.9555555555555556\n",
            "k=62: Acuraccy=0.9333333333333333\n",
            "k=63: Acuraccy=0.9333333333333333\n",
            "k=64: Acuraccy=0.5111111111111111\n",
            "k=65: Acuraccy=0.5111111111111111\n",
            "k=66: Acuraccy=0.5111111111111111\n",
            "k=67: Acuraccy=0.4666666666666667\n",
            "k=68: Acuraccy=0.4888888888888889\n",
            "k=69: Acuraccy=0.4888888888888889\n",
            "k=70: Acuraccy=0.4888888888888889\n",
            "k=71: Acuraccy=0.4888888888888889\n",
            "k=72: Acuraccy=0.4888888888888889\n",
            "k=73: Acuraccy=0.4888888888888889\n",
            "k=74: Acuraccy=0.28888888888888886\n",
            "k=75: Acuraccy=0.28888888888888886\n",
            "k=76: Acuraccy=0.28888888888888886\n",
            "k=77: Acuraccy=0.28888888888888886\n",
            "k=78: Acuraccy=0.28888888888888886\n",
            "k=79: Acuraccy=0.28888888888888886\n",
            "k=80: Acuraccy=0.28888888888888886\n",
            "k=81: Acuraccy=0.28888888888888886\n",
            "k=82: Acuraccy=0.28888888888888886\n",
            "k=83: Acuraccy=0.28888888888888886\n",
            "k=84: Acuraccy=0.28888888888888886\n",
            "k=85: Acuraccy=0.28888888888888886\n",
            "k=86: Acuraccy=0.28888888888888886\n",
            "k=87: Acuraccy=0.28888888888888886\n",
            "k=88: Acuraccy=0.28888888888888886\n",
            "k=89: Acuraccy=0.28888888888888886\n",
            "k=90: Acuraccy=0.28888888888888886\n",
            "k=91: Acuraccy=0.28888888888888886\n",
            "k=92: Acuraccy=0.28888888888888886\n",
            "k=93: Acuraccy=0.28888888888888886\n",
            "k=94: Acuraccy=0.28888888888888886\n",
            "k=95: Acuraccy=0.28888888888888886\n",
            "k=96: Acuraccy=0.28888888888888886\n",
            "k=97: Acuraccy=0.28888888888888886\n",
            "k=98: Acuraccy=0.28888888888888886\n",
            "k=99: Acuraccy=0.28888888888888886\n",
            "k=100: Acuraccy=0.28888888888888886\n"
          ]
        }
      ]
    },
    {
      "cell_type": "code",
      "source": [],
      "metadata": {
        "id": "UN8wen6n3lxd"
      },
      "execution_count": null,
      "outputs": []
    }
  ]
}