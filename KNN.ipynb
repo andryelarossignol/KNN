{
  "nbformat": 4,
  "nbformat_minor": 0,
  "metadata": {
    "colab": {
      "provenance": [],
      "toc_visible": true,
      "authorship_tag": "ABX9TyP6XJ1cGh3nJP2OyjfOUzea",
      "include_colab_link": true
    },
    "kernelspec": {
      "name": "python3",
      "display_name": "Python 3"
    },
    "language_info": {
      "name": "python"
    }
  },
  "cells": [
    {
      "cell_type": "markdown",
      "metadata": {
        "id": "view-in-github",
        "colab_type": "text"
      },
      "source": [
        "<a href=\"https://colab.research.google.com/github/andryelarossignol/KNN/blob/main/KNN.ipynb\" target=\"_parent\"><img src=\"https://colab.research.google.com/assets/colab-badge.svg\" alt=\"Open In Colab\"/></a>"
      ]
    },
    {
      "cell_type": "code",
      "execution_count": 18,
      "metadata": {
        "id": "klykie2AaEzx"
      },
      "outputs": [],
      "source": [
        "#K-Nearest Neighbors(KNN)\n",
        "\n",
        "#works based on the similarity between the data\n",
        "#Data Storage: KNN stores all the training examples.\n",
        "#Distance Calculation: When a new data point needs to be classified, KNN calculates the distance between this point and all the data points in the training set.\n",
        "#Selection of Nearest Neighbors: It selects the ‘k’ nearest data points (neighbors).\n",
        "#Arucaccy= Number of correct predictions/Total number of predctions\n",
        "#Precision= true positives/ true positives+false positives\n",
        "#Recall=true positives/true positives/false negatives\n",
        "#F1=precision.recall/precision+recall\n",
        "#Classification: For classification, KNN assigns the most common class among the ‘k’ neighbors.For regression, it calculates the average of the values of the ‘k’ neighbors.\n",
        "#Vantagens: Simplicidade, fácil de entender e implementar.\n",
        "#Desvantagens: Pode ser computacionalmente caro para grandes conjuntos de dados, pois precisa calcular a distância para todos os pontos de dados.\n",
        "#Confusin matrix: Shows the count of true positives, false positives, true negatives, and false negatives\n"
      ]
    },
    {
      "cell_type": "code",
      "source": [
        "import numpy as np\n",
        "import pandas as pd\n",
        "from sklearn.datasets import load_iris\n",
        "from sklearn.model_selection import train_test_split\n",
        "from sklearn.neighbors import KNeighborsClassifier\n",
        "from sklearn.metrics import accuracy_score\n",
        "from sklearn.metrics import confusion_matrix, classification_report, precision_score, recall_score, f1_score\n",
        "import matplotlib.pyplot as plt\n",
        "import seaborn as sns\n",
        "from sklearn.model_selection import GridSearchCV\n",
        "\n",
        "# Load the Iris dataset\n",
        "iris = load_iris()\n",
        "X, y = iris.data, iris.target #X: Flower features (the four measurements). Y: Flower targets, i.e. the species to which each flower belongs.\n"
      ],
      "metadata": {
        "id": "K8mHQ1oMhrwk"
      },
      "execution_count": 19,
      "outputs": []
    },
    {
      "cell_type": "markdown",
      "source": [],
      "metadata": {
        "id": "T6znK5UkESwO"
      }
    },
    {
      "cell_type": "code",
      "source": [],
      "metadata": {
        "id": "QZP9UX5jEOPp"
      },
      "execution_count": null,
      "outputs": []
    },
    {
      "cell_type": "code",
      "source": [
        "# Split the dataset into 70% training and 30% testing\n",
        "X_train, X_test, y_train, y_test = train_test_split(X, y, test_size=0.7, random_state=42) #rando_state: ensures that the data split is the same on each code run.\n"
      ],
      "metadata": {
        "id": "uNfIzfw5jcdw"
      },
      "execution_count": 58,
      "outputs": []
    },
    {
      "cell_type": "code",
      "source": [
        "# Create the KNN classifier with k=3\n",
        "\n",
        "knn=KNeighborsClassifier()"
      ],
      "metadata": {
        "id": "tnDezJ9ekrp_"
      },
      "execution_count": 59,
      "outputs": []
    },
    {
      "cell_type": "code",
      "source": [
        "# Set parameters for a grid search\n",
        "# Finds the best value of k that maximizes the average accuracy during cross-validation\n",
        "parameters = {'n_neighbors': list(range(1, 31))}\n",
        "clf = GridSearchCV(knn, parameters, cv=5)\n",
        "\n",
        "clf.fit(X_train,y_train)\n",
        "\n",
        "best_k = clf.best_params_['n_neighbors']\n",
        "print(f\"the best k value {best_k}\")"
      ],
      "metadata": {
        "colab": {
          "base_uri": "https://localhost:8080/"
        },
        "id": "1odBtCDqqvLu",
        "outputId": "94ddd5f1-b741-49a8-c967-f82e3d0fd5db"
      },
      "execution_count": 60,
      "outputs": [
        {
          "output_type": "stream",
          "name": "stdout",
          "text": [
            "the best k value 1\n"
          ]
        }
      ]
    },
    {
      "cell_type": "code",
      "source": [
        "k_values = np.arange(1, 31)\n",
        "accuracies = [clf.cv_results_['mean_test_score'][i] for i in range(len(k_values))]\n",
        "plt.plot(k_values, accuracies, marker='o')\n",
        "plt.xlabel('k value')\n",
        "plt.ylabel('acuraccy')\n",
        "plt.title('acuraccy vs k value')\n",
        "plt.show()"
      ],
      "metadata": {
        "colab": {
          "base_uri": "https://localhost:8080/",
          "height": 472
        },
        "id": "ysV6FeYbhSy2",
        "outputId": "161fa30b-35f6-4fff-8321-1e48066dcfa4"
      },
      "execution_count": 61,
      "outputs": [
        {
          "output_type": "display_data",
          "data": {
            "text/plain": [
              "<Figure size 640x480 with 1 Axes>"
            ],
            "image/png": "[encoded data removed]"
          },
          "metadata": {}
        }
      ]
    },
    {
      "cell_type": "code",
      "source": [
        "# Make predictions in the test suite\n",
        "y_pred = grid_search.predict(X_test)\n",
        "\n",
        "\n",
        "# Acuraccy, precision, recall, F1-score\n",
        "accuracy = accuracy_score(y_test, y_pred)\n",
        "precision = precision_score(y_test, y_pred, average='macro')\n",
        "recall= recall_score(y_test, y_pred, average='macro')\n",
        "f1= f1_score(y_test, y_pred, average='macro')\n",
        "\n",
        "\n",
        "print(f'Acuraccy:{accuracy}')\n",
        "print(f'Precision: {precision}')\n",
        "print(f'Recall: {recall}')\n",
        "print(f'F1-score: {f1}')\n",
        "\n",
        "print('Classification Report:')\n",
        "print(classification_report(y_test, y_pred))"
      ],
      "metadata": {
        "colab": {
          "base_uri": "https://localhost:8080/"
        },
        "id": "9SRbS6ltlz4U",
        "outputId": "e11a8d77-0c86-435e-934b-0964d68da9ed"
      },
      "execution_count": 34,
      "outputs": [
        {
          "output_type": "stream",
          "name": "stdout",
          "text": [
            "Acuraccy:1.0\n",
            "Precision: 1.0\n",
            "Recall: 1.0\n",
            "F1-score: 1.0\n",
            "Classification Report:\n",
            "              precision    recall  f1-score   support\n",
            "\n",
            "           0       1.00      1.00      1.00        19\n",
            "           1       1.00      1.00      1.00        13\n",
            "           2       1.00      1.00      1.00        13\n",
            "\n",
            "    accuracy                           1.00        45\n",
            "   macro avg       1.00      1.00      1.00        45\n",
            "weighted avg       1.00      1.00      1.00        45\n",
            "\n"
          ]
        }
      ]
    },
    {
      "cell_type": "code",
      "source": [
        "\n",
        "# Confusion matrix\n",
        "conf_matrix = confusion_matrix(y_test, y_pred)\n",
        "sns.heatmap(conf_matrix, annot=True, fmt='d', cmap='Blues')\n",
        "plt.xlabel('Predito')\n",
        "plt.ylabel('Verdadeiro')\n",
        "plt.title('Confusion matrix')\n",
        "plt.show()"
      ],
      "metadata": {
        "colab": {
          "base_uri": "https://localhost:8080/",
          "height": 472
        },
        "id": "gRlCExoS84Ly",
        "outputId": "ad05b11c-3164-404c-c0b4-40be6f7bec54"
      },
      "execution_count": 35,
      "outputs": [
        {
          "output_type": "display_data",
          "data": {
            "text/plain": [
              "<Figure size 640x480 with 2 Axes>"
            ],
            "image/png": "[encoded data removed]"
          },
          "metadata": {}
        }
      ]
    },
    {
      "cell_type": "code",
      "source": [
        "# Test k values from 1 to 10\n",
        "# Evaluates Arucacia using a single test set\n",
        "\n",
        "k_values = range(1, 10)\n",
        "accuracies = []\n",
        "\n",
        "for k in k_values:\n",
        "    knn = KNeighborsClassifier(n_neighbors=k)\n",
        "    knn.fit(X_train, y_train)\n",
        "    y_pred = knn.predict(X_test)\n",
        "    accuracies.append(accuracy_score(y_test, y_pred))\n",
        "\n",
        "\n",
        "for k, accuracy in zip(k_values, accuracies):\n",
        "    print(f'k={k}: Acuraccy={accuracy}')\n"
      ],
      "metadata": {
        "colab": {
          "base_uri": "https://localhost:8080/"
        },
        "id": "Z6kEk755pB44",
        "outputId": "0198002f-08dd-47a6-b912-99841faac1d5"
      },
      "execution_count": 36,
      "outputs": [
        {
          "output_type": "stream",
          "name": "stdout",
          "text": [
            "k=1: Acuraccy=1.0\n",
            "k=2: Acuraccy=1.0\n",
            "k=3: Acuraccy=1.0\n",
            "k=4: Acuraccy=1.0\n",
            "k=5: Acuraccy=1.0\n",
            "k=6: Acuraccy=1.0\n",
            "k=7: Acuraccy=1.0\n",
            "k=8: Acuraccy=1.0\n",
            "k=9: Acuraccy=1.0\n"
          ]
        }
      ]
    },
    {
      "cell_type": "code",
      "source": [],
      "metadata": {
        "id": "UN8wen6n3lxd"
      },
      "execution_count": null,
      "outputs": []
    }
  ]
}